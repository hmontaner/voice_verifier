{
  "nbformat": 4,
  "nbformat_minor": 0,
  "metadata": {
    "colab": {
      "provenance": [],
      "gpuType": "T4",
      "authorship_tag": "ABX9TyNHzAm3CwJRHyuY6DvJVojq",
      "include_colab_link": true
    },
    "kernelspec": {
      "name": "python3",
      "display_name": "Python 3"
    },
    "language_info": {
      "name": "python"
    },
    "accelerator": "GPU"
  },
  "cells": [
    {
      "cell_type": "markdown",
      "metadata": {
        "id": "view-in-github",
        "colab_type": "text"
      },
      "source": [
        "<a href=\"https://colab.research.google.com/github/hmontaner/voice_verifier/blob/main/voice_verifier.ipynb\" target=\"_parent\"><img src=\"https://colab.research.google.com/assets/colab-badge.svg\" alt=\"Open In Colab\"/></a>"
      ]
    },
    {
      "cell_type": "markdown",
      "source": [
        "## Voice Verifier\n",
        "\n",
        "In this notebook we will create a model to verify speakers. Given two voice recordings A and B, the model will predict whether both voices belong to the same person or not. Note that the two sets of speakers used for training and testing are disjoint. Therefore, once trained, we expect the model to work with previously unheard speakers.\n",
        "\n",
        "For this we will use Pytorch to create a [siamese neural network](https://en.wikipedia.org/wiki/Siamese_neural_network). This network is formed by a pair of identical sub-networks with the same weights. Each sub-network processes one of the voice recordings in the pair to analyse and outputs a tensor. The *distance* between those tensors is inversely proportional to the probability of belonging to different speakers. Similar models exists to verify face images, fingerprints, handwritten signatures, etc. For instance, some smartphones have a model trained to distinguish fingerprints; in this way, a smartphone can grant access to a user by telling if a new fingerprint reading is similar enough to the one which was used to set it up.\n"
      ],
      "metadata": {
        "id": "Eq8i09jv4bw0"
      }
    },
    {
      "cell_type": "markdown",
      "source": [
        "# Dataset Downlading and Preprocessing\n",
        "\n",
        "Let's start by downloading some input data from [OpenSLR](http://www.openslr.org/12/). It contains multiple voice recordings of multiple people. We'll use a small development dataset in this notebook but feel free to use one of the larger training datasets if you are not in a hurry.\n",
        "\n",
        "We won't directly feed our model with raw audio samples. Instead, to speed up the trainig, we'll preprocess those audios and extract some meaningful properties so that the model doesn't have to learn them.\n",
        "\n",
        "This preprocessing takes some time but you can skip it by downloading an already processed dataset; just set `skip_preprocessing` to `True` in the next cell."
      ],
      "metadata": {
        "id": "i_ffCk_CWSOv"
      }
    },
    {
      "cell_type": "code",
      "source": [
        "# Set this flag to True if you are in a hurry\n",
        "skip_preprocessing = True\n",
        "if not skip_preprocessing:\n",
        "  !wget https://openslr.elda.org/resources/12/dev-clean.tar.gz\n",
        "  # Once downloaded, let's extract the dataset.\n",
        "  # The audio files (a few seconds long) are organised into multiple speaker subdirectories.\n",
        "  !tar -xf dev-clean.tar.gz\n",
        "else:\n",
        "  !wget https://github.com/hmontaner/voice_verifier/raw/main/samples_dev-clean.zip\n",
        "  !unzip -q -o samples_dev-clean.zip"
      ],
      "metadata": {
        "colab": {
          "base_uri": "https://localhost:8080/"
        },
        "id": "Ubqclg1VtcPY",
        "outputId": "7a0318b7-75b8-42ef-b1c4-35d27bc211de"
      },
      "execution_count": 1,
      "outputs": [
        {
          "output_type": "stream",
          "name": "stdout",
          "text": [
            "--2024-01-11 14:25:40--  https://github.com/hmontaner/voice_verifier/raw/main/samples_dev-clean.zip\n",
            "Resolving github.com (github.com)... 20.205.243.166\n",
            "Connecting to github.com (github.com)|20.205.243.166|:443... connected.\n",
            "HTTP request sent, awaiting response... 302 Found\n",
            "Location: https://raw.githubusercontent.com/hmontaner/voice_verifier/main/samples_dev-clean.zip [following]\n",
            "--2024-01-11 14:25:41--  https://raw.githubusercontent.com/hmontaner/voice_verifier/main/samples_dev-clean.zip\n",
            "Resolving raw.githubusercontent.com (raw.githubusercontent.com)... 185.199.108.133, 185.199.109.133, 185.199.110.133, ...\n",
            "Connecting to raw.githubusercontent.com (raw.githubusercontent.com)|185.199.108.133|:443... connected.\n",
            "HTTP request sent, awaiting response... 200 OK\n",
            "Length: 2194581 (2.1M) [application/zip]\n",
            "Saving to: ‘samples_dev-clean.zip’\n",
            "\n",
            "samples_dev-clean.z 100%[===================>]   2.09M  --.-KB/s    in 0.02s   \n",
            "\n",
            "2024-01-11 14:25:41 (110 MB/s) - ‘samples_dev-clean.zip’ saved [2194581/2194581]\n",
            "\n"
          ]
        }
      ]
    },
    {
      "cell_type": "markdown",
      "source": [
        "As we said, the raw audio samples have to be processed before feeding them to the model (unless you downloaded the already preprocessed dataset). [librosa](https://librosa.org) is a popular library we can use to extract some audio features."
      ],
      "metadata": {
        "id": "ejYfsPAzZuIW"
      }
    },
    {
      "cell_type": "code",
      "source": [
        "# We'll use librosa to extract audio features. First we'll need to install its dependencies.\n",
        "# Note that after installing the module you may have to restart the runtime.\n",
        "%pip install resampy"
      ],
      "metadata": {
        "colab": {
          "base_uri": "https://localhost:8080/"
        },
        "id": "JQRdfhCGyLFe",
        "outputId": "23097673-ea95-4137-c41b-4fb192012b61"
      },
      "execution_count": 2,
      "outputs": [
        {
          "output_type": "stream",
          "name": "stdout",
          "text": [
            "Collecting resampy\n",
            "  Downloading resampy-0.4.2-py3-none-any.whl (3.1 MB)\n",
            "\u001b[2K     \u001b[90m━━━━━━━━━━━━━━━━━━━━━━━━━━━━━━━━━━━━━━━━\u001b[0m \u001b[32m3.1/3.1 MB\u001b[0m \u001b[31m19.7 MB/s\u001b[0m eta \u001b[36m0:00:00\u001b[0m\n",
            "\u001b[?25hRequirement already satisfied: numpy>=1.17 in /usr/local/lib/python3.10/dist-packages (from resampy) (1.23.5)\n",
            "Requirement already satisfied: numba>=0.53 in /usr/local/lib/python3.10/dist-packages (from resampy) (0.58.1)\n",
            "Requirement already satisfied: llvmlite<0.42,>=0.41.0dev0 in /usr/local/lib/python3.10/dist-packages (from numba>=0.53->resampy) (0.41.1)\n",
            "Installing collected packages: resampy\n",
            "Successfully installed resampy-0.4.2\n"
          ]
        }
      ]
    },
    {
      "cell_type": "code",
      "source": [
        "import numpy as np\n",
        "import librosa\n",
        "\n",
        "def extractFeatures(file):\n",
        "  y, sr = librosa.load(file, res_type=\"kaiser_fast\")\n",
        "  # Some features cannot be extracted from short samples\n",
        "  if (librosa.get_duration(y=y, sr=sr) < 3):\n",
        "    print(\"Skipping short sample: \", file)\n",
        "    return\n",
        "  # Feel free to experiment with other features:\n",
        "  # https://librosa.org/doc/main/feature.html\n",
        "  mfccs = np.mean(librosa.feature.mfcc(y=y, sr=sr, n_mfcc=40).T,axis=0)\n",
        "  stft = np.abs(librosa.stft(y))\n",
        "  chroma = np.mean(librosa.feature.chroma_stft(S=stft, sr=sr).T,axis=0)\n",
        "  mel = np.mean(librosa.feature.melspectrogram(y=y, sr=sr).T,axis=0)\n",
        "  contrast = np.mean(librosa.feature.spectral_contrast(S=stft, sr=sr).T,axis=0)\n",
        "  tonnetz = np.mean(librosa.feature.tonnetz(y=librosa.effects.harmonic(y), sr=sr).T,axis=0)\n",
        "  # Return the concatenation of all the properties\n",
        "  features = np.concatenate((mfccs, chroma, mel, contrast, tonnetz), axis=0)\n",
        "  return features"
      ],
      "metadata": {
        "id": "Ky305Ar74Q-m"
      },
      "execution_count": 3,
      "outputs": []
    },
    {
      "cell_type": "code",
      "source": [
        "from pathlib import Path\n",
        "import random\n",
        "\n",
        "# subdir contains the voice samples of a given speaker\n",
        "def processSamplesSubdir(target_dir, subdir):\n",
        "  print(\"Starting with speaker\", subdir.name)\n",
        "  # Create the target directory where audio features will be stored\n",
        "  sub_target_dir = target_dir / subdir.name\n",
        "  sub_target_dir.mkdir(parents=True, exist_ok=True)\n",
        "  # Pick a few random samples\n",
        "  files = list(subdir.rglob(\"*.flac\"))\n",
        "  # Maximum number of samples considered for each speaker\n",
        "  # Less samples can be used to speed up this notebook but it will impact the model\n",
        "  num_samples_per_speaker = 50\n",
        "  if len(files) > num_samples_per_speaker:\n",
        "    files = random.sample(list(files), k=num_samples_per_speaker)\n",
        "  # For each sample, extract its features and store them\n",
        "  for sample in files:\n",
        "    features = extractFeatures(sample)\n",
        "    if features is not None:\n",
        "      # Use numpy save to store the array of features\n",
        "      np.save(sub_target_dir / sample.name, features)"
      ],
      "metadata": {
        "id": "_ZJxkCWK4TRv"
      },
      "execution_count": 4,
      "outputs": []
    },
    {
      "cell_type": "code",
      "source": [
        "import shutil\n",
        "\n",
        "def processSamples(subdirs, target_dir):\n",
        "  target_dir.mkdir(parents=True, exist_ok=True)\n",
        "  # Clean the target directory\n",
        "  for f in target_dir.glob(\"*\"):\n",
        "    shutil.rmtree(f)\n",
        "  # Extract audio features of voice samples for each speaker.\n",
        "  # Note this loop could be parallelised with joblib:\n",
        "  # Parallel(n_jobs=4)(delayed(processSubdir)(target_dir, subdir) for subdir in subdirs)\n",
        "  print(f'Processing {len(subdirs)} speakers')\n",
        "  for subdir in subdirs:\n",
        "    processSamplesSubdir(target_dir, subdir)"
      ],
      "metadata": {
        "id": "k6YfvYI54WX7"
      },
      "execution_count": 5,
      "outputs": []
    },
    {
      "cell_type": "markdown",
      "source": [
        "Let's prepare our dataset. We'll preprocess the audio files to extract some features. This is done just once, unless you want to experiment with different features. However, it can take a while so feel free to skip this step by setting `skip_extraction` to `True` as suggested in the first cell."
      ],
      "metadata": {
        "id": "K5wA2BPTpM4F"
      }
    },
    {
      "cell_type": "code",
      "source": [
        "import sys\n",
        "\n",
        "def process():\n",
        "  # This is the directory created after extracting the downloaded dataset\n",
        "  dir = \"LibriSpeech/dev-clean\"\n",
        "  # Each subdirectory belongs to a different speaker\n",
        "  subdirs = [f for f in Path(dir).iterdir() if f.is_dir()]\n",
        "  if (len(subdirs) < 10):\n",
        "    sys.exit(\"Not enough subdirectories found\")\n",
        "\n",
        "  # 80% for training, the rest for validation and test\n",
        "  training_to = int(len(subdirs) * 0.8)\n",
        "  validation_to = int(len(subdirs) * 0.9)\n",
        "  training = subdirs[:training_to]\n",
        "  validation = subdirs[training_to:validation_to]\n",
        "  test = subdirs[validation_to:]\n",
        "\n",
        "  # This may take a few minutes\n",
        "  processSamples(training, Path(\"./samples/training\"))\n",
        "  processSamples(validation, Path(\"./samples/validation\"))\n",
        "  processSamples(test, Path(\"./samples/test\"))\n",
        "\n",
        "if not skip_preprocessing:\n",
        "  process()\n",
        "else:\n",
        "  print(\"Skipping feature extraction\")"
      ],
      "metadata": {
        "colab": {
          "base_uri": "https://localhost:8080/"
        },
        "id": "vX4QHrjYxJvr",
        "outputId": "c96543bd-3d91-4f64-c665-677044c8703b"
      },
      "execution_count": 6,
      "outputs": [
        {
          "output_type": "stream",
          "name": "stdout",
          "text": [
            "Skipping feature extraction\n"
          ]
        }
      ]
    },
    {
      "cell_type": "markdown",
      "source": [
        "# Data Loader\n",
        "\n",
        "Once we have extracted the audio features, we need to define a [data set](https://pytorch.org/tutorials/beginner/basics/data_tutorial.html), that is, a Pytorch object to feed those audio features into the model.\n",
        "As we will be using a [triplet loss function](https://en.wikipedia.org/wiki/Triplet_loss), each item in this dataset will be three samples: an anchor, a positive, and a negative."
      ],
      "metadata": {
        "id": "5fByzC2QrxLU"
      }
    },
    {
      "cell_type": "code",
      "source": [
        "import torch\n",
        "from torch.utils.data import Dataset\n",
        "\n",
        "class SiameseNetworkDataset(Dataset):\n",
        "    def __init__(self, dir):\n",
        "      subdirs = [f for f in dir.iterdir() if f.is_dir()]\n",
        "      self.samples = dict()\n",
        "      for subdir in subdirs:\n",
        "          files = list(subdir.rglob(\"*.flac.npy\"))\n",
        "          self.samples[subdir.name] = files\n",
        "\n",
        "    def getSubIndex(self, index):\n",
        "        for k, v in self.samples.items():\n",
        "            if index < len(v):\n",
        "                return k, index\n",
        "            index -= len(v)\n",
        "\n",
        "    # Random sample of a speaker other than the sample to avoid if any\n",
        "    def getPersonSample(self, person, index_to_avoid = None):\n",
        "        while True:\n",
        "          index = int(random.random() * len(self.samples[person]))\n",
        "          if index != index_to_avoid:\n",
        "              return self.samples[person][index]\n",
        "\n",
        "    # Random person other than the one to avoid\n",
        "    def getOtherPerson(self, person_to_avoid):\n",
        "        while True:\n",
        "            person = random.choice(list(self.samples.keys()))\n",
        "            if person != person_to_avoid:\n",
        "                return person\n",
        "\n",
        "    def __getitem__(self, index):\n",
        "        person, subindex = self.getSubIndex(index)\n",
        "        # This dataset returns triplets:\n",
        "        # 1. Anchor sample\n",
        "        fileA = self.samples[person][subindex]\n",
        "        # 2. Positive sample: same speaker as the anchor sample\n",
        "        fileP = self.getPersonSample(person, subindex)\n",
        "        # 3. Negative sample: different speaker from the anchor sample\n",
        "        fileN = self.getPersonSample(self.getOtherPerson(person))\n",
        "        # Use numpy load to read the three arrays of features\n",
        "        sampleA = np.load(fileA)\n",
        "        sampleP = np.load(fileP)\n",
        "        sampleN = np.load(fileN)\n",
        "        return torch.tensor(np.float32(sampleA)), torch.tensor(np.float32(sampleP)), torch.tensor(np.float32(sampleN))\n",
        "\n",
        "    def __len__(self):\n",
        "        return sum([len(s) for s in self.samples.values()])"
      ],
      "metadata": {
        "id": "n0KnW_oPuKaY"
      },
      "execution_count": 7,
      "outputs": []
    },
    {
      "cell_type": "markdown",
      "source": [
        "# The Model\n",
        "\n",
        "Now we can design the model litself. Even if we said this is a siamese network, here we define one single network. Later we'll just sequentially feed each of the samples in the triplets to this unique network.\n",
        "Feel free to experiment with different layers, parameters, batch normalisations, etc. Note that larger networks may require larger datasets to avoid oferfitting."
      ],
      "metadata": {
        "id": "6b84FCCEwR8u"
      }
    },
    {
      "cell_type": "code",
      "source": [
        "import torch.nn as nn\n",
        "import torch.nn.functional as F\n",
        "\n",
        "class SiameseNetwork(nn.Module):\n",
        "\n",
        "    def __init__(self):\n",
        "      super(SiameseNetwork, self).__init__()\n",
        "\n",
        "      self.fc = nn.Sequential(\n",
        "          nn.Linear(193, 1024*4),\n",
        "          nn.Dropout(0.1),\n",
        "          nn.ReLU(inplace=True),\n",
        "\n",
        "          nn.Linear(1024*4, 1024),\n",
        "          nn.ReLU(inplace=True),\n",
        "\n",
        "          nn.Linear(1024, 32)\n",
        "      )\n",
        "\n",
        "    def forward(self, input):\n",
        "        return self.fc(input)"
      ],
      "metadata": {
        "id": "6L1IsPBzwoz9"
      },
      "execution_count": 27,
      "outputs": []
    },
    {
      "cell_type": "markdown",
      "source": [
        "Let's also define the loss function. In siamese networks, we typically use [Triplet Loss or Contrastive Loss](https://lilianweng.github.io/posts/2021-05-31-contrastive/). Here we'll use Triplet Loss because of the advantages described in [here](https://towardsdatascience.com/triplet-loss-advanced-intro-49a07b7d8905) (also because we empirically tested that contrastive loss results in worse accuracy):\n",
        "\n",
        "*Notice that Triplet Loss does not have a side effect of urging to encode anchor and positive samples into the same point in the vector space as in Contrastive Loss. This lets Triplet Loss tolerate some intra-class variance, unlike Contrastive Loss, as the latter forces the distance between an anchor and any positive essentially to 0. In other terms, Triplet Loss allows to stretch clusters in such a way as to include outliers while still ensuring a margin between samples from different clusters, e.g., negative pairs.*"
      ],
      "metadata": {
        "id": "pvuswjRxyKAg"
      }
    },
    {
      "cell_type": "code",
      "source": [
        "class TripletLoss(nn.Module):\n",
        "    def __init__(self, margin=1.0):\n",
        "        super(TripletLoss, self).__init__()\n",
        "        self.margin = margin\n",
        "\n",
        "    def calc_euclidean(self, x1, x2):\n",
        "        return (x1-x2).pow(2).sum(1)\n",
        "\n",
        "    def forward(self, anchor, positive, negative):\n",
        "        distance_positive = self.calc_euclidean(anchor, positive)\n",
        "        distance_negative = self.calc_euclidean(anchor, negative)\n",
        "        losses = torch.relu(distance_positive - distance_negative + self.margin)\n",
        "        return losses.mean()"
      ],
      "metadata": {
        "id": "ETtC4cm8zfiY"
      },
      "execution_count": 9,
      "outputs": []
    },
    {
      "cell_type": "markdown",
      "source": [
        "# Accuracy\n",
        "\n",
        "Before starting with the training, let's define a few functions that will help us calculate the accuracy of the model. First we need a function to infer the distance between two voices using a given model."
      ],
      "metadata": {
        "id": "Qu_nvFWv5I-5"
      }
    },
    {
      "cell_type": "code",
      "source": [
        "def calc_euclidean(x1, x2):\n",
        "    return (x1-x2).pow(2).sum(1)\n",
        "\n",
        "def infer(dataloader, model):\n",
        "  device = torch.device(\"cuda\" if torch.cuda.is_available() else \"cpu\")\n",
        "  distancesP = list()\n",
        "  distancesN = list()\n",
        "  # For each batch of triplets\n",
        "  for batch in iter(dataloader):\n",
        "    sampleA = batch[0]\n",
        "    sampleP = batch[1]\n",
        "    sampleN = batch[2]\n",
        "    # run each voice sample through the model\n",
        "    outputA = model(sampleA.to(device))\n",
        "    outputP = model(sampleP.to(device))\n",
        "    outputN = model(sampleN.to(device))\n",
        "    # and calculate distances for the positive and negative pairs\n",
        "    distancesP += calc_euclidean(outputA, outputP)\n",
        "    distancesN += calc_euclidean(outputA, outputN)\n",
        "  return distancesP, distancesN"
      ],
      "metadata": {
        "id": "c6GPaR52Jnzi"
      },
      "execution_count": 10,
      "outputs": []
    },
    {
      "cell_type": "markdown",
      "source": [
        "The result of our model is a distance between a pair of voices. We should calculate a distance threshold below which a pair of voices are considered to belong to the same person.\n",
        "It could be done by eyeballing some result experiments but here we calculate the optimum to automatise the process."
      ],
      "metadata": {
        "id": "2cE1tLzv54zR"
      }
    },
    {
      "cell_type": "code",
      "source": [
        "# Get the proportion of samples that are correctly predicted assuming the given threshold\n",
        "def getAccuracy(inferencesP, inferencesN, threshold):\n",
        "  num_correct_predictions = 0\n",
        "  num_correct_predictions += sum(distance < threshold for distance in inferencesP)\n",
        "  num_correct_predictions += sum(distance >= threshold for distance in inferencesN)\n",
        "  return num_correct_predictions / (len(inferencesP + inferencesN))\n",
        "\n",
        "import itertools\n",
        "# Get the threshold that maximises accuracy using brute force.\n",
        "# TODO: optimise\n",
        "def getMaximum(inferencesP, inferencesN):\n",
        "  max_accuracy = 0\n",
        "  for i in itertools.chain(inferencesP, inferencesN):\n",
        "    accuracy = getAccuracy(inferencesP, inferencesN, i.item())\n",
        "    max_accuracy = max(max_accuracy, accuracy)\n",
        "  return max_accuracy"
      ],
      "metadata": {
        "id": "v7ZifwNrXxsp"
      },
      "execution_count": 11,
      "outputs": []
    },
    {
      "cell_type": "markdown",
      "source": [
        "Let's also create a plot to help us understand the performance of our model."
      ],
      "metadata": {
        "id": "LCPhbF_A8upT"
      }
    },
    {
      "cell_type": "code",
      "source": [
        "from matplotlib import pyplot as plt\n",
        "def plotInferences(inferencesP, inferencesN):\n",
        "  same = list(map(lambda i: i.item(), inferencesP))\n",
        "  difference = list(map(lambda i: i.item(), inferencesN))\n",
        "  all = itertools.chain(same, difference)\n",
        "  num_bins = 100\n",
        "  bin_width = max(all) / num_bins\n",
        "  bins = np.arange(0, num_bins * bin_width, bin_width)\n",
        "  plt.hist(same, alpha=0.5, label='Same voice', bins=bins)\n",
        "  plt.hist(difference, alpha=0.5, label='Different voice', bins=bins)\n",
        "  plt.ylabel('Frequency')\n",
        "  plt.xlabel('Distance')\n",
        "  plt.title('Voice distances')\n",
        "  plt.show()"
      ],
      "metadata": {
        "id": "GfYykIBqX5je"
      },
      "execution_count": 12,
      "outputs": []
    },
    {
      "cell_type": "markdown",
      "source": [
        "This last helper function checks the accuracy of the model on a given dataset. It will be used while training to see the evolution of the model."
      ],
      "metadata": {
        "id": "6F1j5z5tJycw"
      }
    },
    {
      "cell_type": "code",
      "source": [
        "from torch.utils.data import DataLoader\n",
        "def checkAccuracy(dir, model, show_plot = False):\n",
        "  dataset = SiameseNetworkDataset(dir=dir)\n",
        "  dataloader = DataLoader(dataset, shuffle=True, num_workers=1, batch_size=64)\n",
        "  # First get inference results\n",
        "  inferencesP, inferencesN = infer(dataloader, model)\n",
        "  # Then draw a plot, find the optimum threshold, and calculate its accuracy\n",
        "  if show_plot:\n",
        "    plotInferences(inferencesP, inferencesN)\n",
        "  accuracy = getMaximum(inferencesP, inferencesN)\n",
        "  return accuracy"
      ],
      "metadata": {
        "id": "m63-SaL5X74-"
      },
      "execution_count": 13,
      "outputs": []
    },
    {
      "cell_type": "markdown",
      "source": [
        "# Training\n",
        "Now we can train the model. For that, we first create a data loader and instantiate the siamese network, the triplet loss, and an optimiser. Then, for each epoch, we read a batch of triplets from the data loader and pass each of the three samples to the model. The three outputs of the model are used to calculate the loss that, in turn, is used to optimise the network.\n",
        "The model will learn how to output a tensor that describes the unique characteristics of the given voice. The output tensors will be *similar* for two voices of the same speaker."
      ],
      "metadata": {
        "id": "F8oxr_a_Dbae"
      }
    },
    {
      "cell_type": "code",
      "source": [
        "from torch import optim\n",
        "\n",
        "training_dir = Path(\"samples/training\")\n",
        "siamese_dataset = SiameseNetworkDataset(dir=training_dir)\n",
        "print(\"Size of dataset: \", len(siamese_dataset))\n",
        "\n",
        "device = torch.device(\"cuda\" if torch.cuda.is_available() else \"cpu\")\n",
        "print(f'Device: {device}')\n",
        "\n",
        "train_dataloader = DataLoader(siamese_dataset, shuffle=True, num_workers=2, batch_size=128)\n",
        "net = SiameseNetwork().to(device)\n",
        "criterion = TripletLoss()\n",
        "optimizer = optim.Adam(net.parameters(), lr = 0.0001)\n",
        "\n",
        "# Record losses and accuracies to draw a nice graph\n",
        "losses = []\n",
        "test_accuracies = []\n",
        "training_accuracies = []"
      ],
      "metadata": {
        "colab": {
          "base_uri": "https://localhost:8080/"
        },
        "id": "HgxjftU29zgt",
        "outputId": "41dd2d9b-a1d5-4a6e-e40e-fbcc3ce16bd0"
      },
      "execution_count": 29,
      "outputs": [
        {
          "output_type": "stream",
          "name": "stdout",
          "text": [
            "Size of dataset:  1377\n",
            "Device: cuda\n"
          ]
        }
      ]
    },
    {
      "cell_type": "markdown",
      "source": [
        "Feel free to rerun the next cell as many times as you like until the model converges. With 50 epochs, the model should reach nearly 90% accuracy."
      ],
      "metadata": {
        "id": "mFcORrodKI9t"
      }
    },
    {
      "cell_type": "code",
      "source": [
        "for epoch in range(50):\n",
        "  loss = None\n",
        "  for i, (sampleA, sampleP, sampleN) in enumerate(train_dataloader):\n",
        "    optimizer.zero_grad()\n",
        "    # Anchor sample\n",
        "    outputA = net(sampleA.to(device))\n",
        "    # Positive sample (same speaker)\n",
        "    outputP = net(sampleP.to(device))\n",
        "    # Negative sample (different speaker)\n",
        "    outputN = net(sampleN.to(device))\n",
        "    loss = criterion(outputA, outputP, outputN)\n",
        "    loss.backward()\n",
        "    optimizer.step()\n",
        "\n",
        "  # After each epoch, check and record accuracies\n",
        "  losses.append(loss.item())\n",
        "  test_accuracy = checkAccuracy(Path(\"samples/test\"), net).cpu()\n",
        "  test_accuracies.append(test_accuracy)\n",
        "  # Training accuracy is commented out to speed up the training\n",
        "  #training_accuracy = checkAccuracy(Path(\"samples/training\"), net).cpu()\n",
        "  #training_accuracies.append(training_accuracy)\n",
        "  print(f'Epoch {epoch}: loss {loss.item()}, test accuracy {test_accuracy}')"
      ],
      "metadata": {
        "id": "HqUhacCH8hA1",
        "colab": {
          "base_uri": "https://localhost:8080/"
        },
        "outputId": "43a798d2-13ac-48f7-c33c-a5049f699062"
      },
      "execution_count": 30,
      "outputs": [
        {
          "output_type": "stream",
          "name": "stdout",
          "text": [
            "Epoch 0: loss 4.6988959312438965, test accuracy 0.6583850979804993\n",
            "Epoch 1: loss 1.8572735786437988, test accuracy 0.6521739363670349\n",
            "Epoch 2: loss 2.9670522212982178, test accuracy 0.7049689292907715\n",
            "Epoch 3: loss 2.4187498092651367, test accuracy 0.7267081141471863\n",
            "Epoch 4: loss 1.5449026823043823, test accuracy 0.739130437374115\n",
            "Epoch 5: loss 0.412008136510849, test accuracy 0.7763975262641907\n",
            "Epoch 6: loss 1.1506541967391968, test accuracy 0.7515528202056885\n",
            "Epoch 7: loss 0.680703341960907, test accuracy 0.7732919454574585\n",
            "Epoch 8: loss 0.9048100113868713, test accuracy 0.7515528202056885\n",
            "Epoch 9: loss 0.4967648386955261, test accuracy 0.7701863646507263\n",
            "Epoch 10: loss 1.8876206874847412, test accuracy 0.7763975262641907\n",
            "Epoch 11: loss 0.05337996035814285, test accuracy 0.8136646151542664\n",
            "Epoch 12: loss 0.27603086829185486, test accuracy 0.8105590343475342\n",
            "Epoch 13: loss 1.256568431854248, test accuracy 0.7950310707092285\n",
            "Epoch 14: loss 0.5371984243392944, test accuracy 0.8167701959609985\n",
            "Epoch 15: loss 0.0, test accuracy 0.8198757767677307\n",
            "Epoch 16: loss 0.26621511578559875, test accuracy 0.8354037404060364\n",
            "Epoch 17: loss 0.11152758449316025, test accuracy 0.8198757767677307\n",
            "Epoch 18: loss 0.18924185633659363, test accuracy 0.8136646151542664\n",
            "Epoch 19: loss 0.04556950554251671, test accuracy 0.8695652484893799\n",
            "Epoch 20: loss 0.1692754626274109, test accuracy 0.7701863646507263\n",
            "Epoch 21: loss 0.08411855250597, test accuracy 0.829192578792572\n",
            "Epoch 22: loss 0.38239917159080505, test accuracy 0.8478261232376099\n",
            "Epoch 23: loss 0.4318830668926239, test accuracy 0.829192578792572\n",
            "Epoch 24: loss 0.9225978255271912, test accuracy 0.8385093212127686\n",
            "Epoch 25: loss 0.5585768818855286, test accuracy 0.8198757767677307\n",
            "Epoch 26: loss 0.2011590451002121, test accuracy 0.8260869979858398\n",
            "Epoch 27: loss 0.0, test accuracy 0.8136646151542664\n",
            "Epoch 28: loss 0.2216789722442627, test accuracy 0.8447204828262329\n",
            "Epoch 29: loss 0.6951070427894592, test accuracy 0.8260869979858398\n",
            "Epoch 30: loss 2.9244308471679688, test accuracy 0.8385093212127686\n",
            "Epoch 31: loss 0.6507882475852966, test accuracy 0.8478261232376099\n",
            "Epoch 32: loss 0.04316207766532898, test accuracy 0.8354037404060364\n",
            "Epoch 33: loss 0.8765363097190857, test accuracy 0.8416149020195007\n",
            "Epoch 34: loss 0.4707595705986023, test accuracy 0.850931704044342\n",
            "Epoch 35: loss 0.08913126587867737, test accuracy 0.8385093212127686\n",
            "Epoch 36: loss 0.346117228269577, test accuracy 0.8788819909095764\n",
            "Epoch 37: loss 0.3948614299297333, test accuracy 0.8757764101028442\n",
            "Epoch 38: loss 0.05146101117134094, test accuracy 0.8602484464645386\n",
            "Epoch 39: loss 0.012209960259497166, test accuracy 0.829192578792572\n",
            "Epoch 40: loss 0.2625206410884857, test accuracy 0.8633540272712708\n",
            "Epoch 41: loss 0.0, test accuracy 0.8167701959609985\n",
            "Epoch 42: loss 0.19910942018032074, test accuracy 0.8881987929344177\n",
            "Epoch 43: loss 0.0, test accuracy 0.8354037404060364\n",
            "Epoch 44: loss 0.6201652884483337, test accuracy 0.8385093212127686\n",
            "Epoch 45: loss 0.10588935017585754, test accuracy 0.8385093212127686\n",
            "Epoch 46: loss 0.0, test accuracy 0.8385093212127686\n",
            "Epoch 47: loss 0.0, test accuracy 0.8385093212127686\n",
            "Epoch 48: loss 0.0, test accuracy 0.8850932121276855\n",
            "Epoch 49: loss 0.8113457560539246, test accuracy 0.8633540272712708\n"
          ]
        }
      ]
    },
    {
      "cell_type": "markdown",
      "source": [
        "# Result Graphs\n",
        "\n",
        "Before ploting the graphs of your model, let's see an example of a model that has been trained with the large dataset (this model is slightly larger than the one proposed in this notebook because overfitting is less probable with the large dataset).\n",
        "\n",
        "In this first graph we can see the evolution of the training. With the large dataset we can achieve around **92% accuracy** in the test dataset (blue line), while we achieve 94% accuracy in the training dataset (red line). Note this can take a few hours to train.\n",
        "\n",
        "![plot_training.png](https://github.com/hmontaner/voice_verifier/blob/main/plot_training.png?raw=true)\n",
        "\n",
        "This other graph represents how the test dataset is interpreted by the trained model. Blue bars show the amount of voice pairs belonging to the same person and orange bars show the amount of pairs belonging to different persons. The model has learned to output a small distance (near zero) between same-person voices while it outputs a distance around 15 for different-person voices.\n",
        "\n",
        "![plot_distances.png](https://github.com/hmontaner/voice_verifier/blob/main/plot_distances.png?raw=true)"
      ],
      "metadata": {
        "id": "87eMy_Ue-JrU"
      }
    },
    {
      "cell_type": "markdown",
      "source": [
        "Finally, let's see how the training of your model went:"
      ],
      "metadata": {
        "id": "sbmJn8kX98l0"
      }
    },
    {
      "cell_type": "code",
      "source": [
        "# This plots the loss and accuracy evolution through training\n",
        "fig, ax1 = plt.subplots()\n",
        "xs1 = [x for x in range(len(losses))]\n",
        "ax1.plot(xs1, losses, 'g-')\n",
        "xs2 = [x * len(losses)/len(test_accuracies) for x in range(len(test_accuracies))]\n",
        "ax2 = ax1.twinx()\n",
        "ax2.plot(xs2, list(map(lambda x: x.cpu(), test_accuracies)), 'b-')\n",
        "if len(training_accuracies) > 0:\n",
        "  ax2.plot(xs2, list(map(lambda x: x.cpu(), training_accuracies)), 'r-')\n",
        "ax1.set_ylabel('Loss', color='g')\n",
        "ax2.set_ylabel('Accuracy', color='b')\n",
        "plt.show()\n",
        "\n",
        "# This plots the accuracy histogam\n",
        "accuracy = checkAccuracy(Path(\"samples/validation\"), net, show_plot = True)\n",
        "print(f'Accuracy: {accuracy}')"
      ],
      "metadata": {
        "id": "AsqCTaoz-AFO",
        "colab": {
          "base_uri": "https://localhost:8080/",
          "height": 908
        },
        "outputId": "cfafefd2-d091-483d-87eb-43a97ecb36e1"
      },
      "execution_count": 31,
      "outputs": [
        {
          "output_type": "display_data",
          "data": {
            "text/plain": [
              "<Figure size 640x480 with 1 Axes>"
            ],
            "image/png": "[encoded data removed]"
          },
          "metadata": {}
        },
        {
          "output_type": "stream",
          "name": "stdout",
          "text": [
            "Accuracy: 0.7561728358268738\n"
          ]
        },
        {
          "output_type": "display_data",
          "data": {
            "text/plain": [
              "<Figure size 640x480 with 2 Axes>"
            ],
            "image/png": "[encoded data removed]"
          },
          "metadata": {}
        }
      ]
    }
  ]
}